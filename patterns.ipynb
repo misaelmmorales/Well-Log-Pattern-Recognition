{
 "cells": [
  {
   "cell_type": "code",
   "execution_count": null,
   "metadata": {},
   "outputs": [
    {
     "ename": "",
     "evalue": "",
     "output_type": "error",
     "traceback": [
      "\u001b[1;31mFailed to start the Kernel 'flow (Python 3.9.21)'. \n",
      "\u001b[1;31mView Jupyter <a href='command:jupyter.viewOutput'>log</a> for further details. EROFS: read-only file system, mkdir '/home/mmorales/.vscode-server/data/User/globalStorage/ms-toolsai.jupyter/version-2025.1.0/jupyter/runtime'"
     ]
    }
   ],
   "source": [
    "import numpy as np\n",
    "import pandas as pd\n",
    "import matplotlib.pyplot as plt\n",
    "\n",
    "import lasio\n",
    "import pywt\n",
    "from fastdtw import fastdtw\n",
    "from scipy import linalg, signal, fft, interpolate, stats, spatial, special\n",
    "from sklearn.preprocessing import MinMaxScaler\n",
    "\n",
    "from herlperFunctions import plot_curve"
   ]
  },
  {
   "cell_type": "code",
   "execution_count": null,
   "metadata": {},
   "outputs": [],
   "source": [
    "well1  = lasio.read('data/chevron2009.LAS').df()                                                                                                    # Chevron 2009 Egypt\n",
    "well2  = lasio.read('data/akerbp.las').df()                                                                                                         # AkerBP 2016 Norway\n",
    "well3  = lasio.read('data/3T-621_OH.LAS').df()                                                                                                      # ConocoPhillips Alaska 1\n",
    "well4  = lasio.read('data/MORAINE 1_OH_DATA.LAS').df()                                                                                              # ConocoPhillips Alaska Moraine\n",
    "well5  = lasio.read('data/Smeaheia/data/32 2-1').df().iloc[10:]                                                                                     # Smeaheia 32/2-1\n",
    "well6  = lasio.read('data/Smeaheia/data/32 4-1').df()                                                                                               # Smeaheia 32/4-1\n",
    "well7  = lasio.read('data/Sleipner/data/Wells_released_2011/Well 159_13/159-13 Logs.LAS').df()                                                      # Sleipner 15-9/13\n",
    "well8  = lasio.read('data/Sleipner/data/Wells_released_2011/Well 159_A16/159-A-16.LAS').df()                                                        # Sleipner 15-9/A-16\n",
    "well9  = lasio.read('data/Decatur/data/IBDP_Geophysical_Logs/1211523415_CCS1/Raw_Logs/1211523415_20200727_CCS1_Compiled_Raw_Logs_Petrel.LAS').df()  # Decatur CCS1\n",
    "well10 = lasio.read('data/Utah Forge/Wireline Field Data/UnivUtah_Forge16A-78-32_R4_USI_MainPass.LAS').df()                                         # Utah Forge 16A-78-32\n",
    "well11 = lasio.read('data/Cranfield/F1 Well Logs/las/06-06-09 APWH00103_DENBURY_CFU_31F_1_PEX_MLT_MAIN_009PUP-GenericV20.LAS').df()                 # Cranfield 31F-1\n",
    "well12 = lasio.read(\"data/Cranfield/other-wells/48-1.LAS\").df()                                                                                     # Cranfield 48-1"
   ]
  },
  {
   "cell_type": "code",
   "execution_count": null,
   "metadata": {},
   "outputs": [],
   "source": [
    "fig, axs = plt.subplots(1, 12, figsize=(25,6))\n",
    "ax1, ax2, ax3, ax4, ax5, ax6, ax7, ax8, ax9, ax10, ax11, ax12 = axs\n",
    "glb, gub = 0, 200\n",
    "\n",
    "plot_curve(ax1, well1, 'GR', lb=glb, ub=gub, color='g', units='API', subtitle='Chevron 2009 Egypt')\n",
    "plot_curve(ax2, well2, 'HCGR', lb=glb, ub=gub, color='g', units='API', subtitle='AkerBP 2016 Norway')\n",
    "plot_curve(ax3, well3, 'GR', lb=glb, ub=gub, color='g', units='API', subtitle='ConocoPhillips Alaska 1')\n",
    "plot_curve(ax4, well4, 'GR_N', lb=glb, ub=gub, color='g', units='API', subtitle='ConocoPhillips Alaska Moraine')\n",
    "plot_curve(ax5, well5, 'GR:1', lb=glb, ub=gub, color='g', units='API', subtitle='Smeaheia 32/2-1')\n",
    "plot_curve(ax6, well6, 'GR', lb=glb, ub=gub, color='g', units='API', subtitle='Smeaheia 32/4-1')\n",
    "plot_curve(ax7, well7, 'GR', lb=glb, ub=gub, color='g', units='API', subtitle='Sleipner 15-9/13')\n",
    "plot_curve(ax8, well8, 'GR', lb=glb, ub=gub, color='g', units='API', subtitle='Sleipner 15-9/A-16')\n",
    "plot_curve(ax9, well9, 'GAMMA', lb=glb, ub=gub, color='g', units='API', subtitle='Decatur CCS1')\n",
    "plot_curve(ax10, well10, 'GR_EDTC', lb=glb, ub=gub, color='g', units='API', subtitle='Utah Forge 16A-78-32')\n",
    "plot_curve(ax11, well11, 'ECGR', lb=glb, ub=gub, color='g', units='API', subtitle='Cranfield 31F-1')\n",
    "plot_curve(ax12, well12, 'GRGC', lb=glb, ub=gub, color='g', units='API', subtitle='Cranfield 48-1')\n",
    "\n",
    "[a.invert_yaxis() for a in axs]\n",
    "plt.tight_layout()\n",
    "plt.show()"
   ]
  },
  {
   "cell_type": "code",
   "execution_count": null,
   "metadata": {},
   "outputs": [],
   "source": [
    "def resample_signal(dd, new_size, kind='cubic'):\n",
    "    dd = np.array(dd)\n",
    "    x_old = np.linspace(0, 1, len(dd))\n",
    "    x_new = np.linspace(0, 1, new_size)\n",
    "    interpolator = interpolate.interp1d(x_old, dd.flatten(), kind=kind)\n",
    "    return interpolator(x_new)\n",
    "\n",
    "def log_pattern(dd, stencil, window_size, lag):\n",
    "    dd = np.array(dd)\n",
    "    dd = signal.medfilt(dd, kernel_size=3)\n",
    "\n",
    "    # calculate moving windows\n",
    "    windows = []\n",
    "    for i in range(0, len(dd)-window_size+1, lag):\n",
    "        w = dd[i:i+window_size]\n",
    "        windows.append(w)\n",
    "    windows = np.array(windows)\n",
    "    windows_norm = MinMaxScaler().fit_transform(windows.T).T\n",
    "    \n",
    "    # calculate correlations\n",
    "    stencil_norm = (stencil - stencil.min()) / (stencil.max() - stencil.min())\n",
    "    stencil_long = resample_signal(stencil_norm, len(windows_norm[0]))\n",
    "    correlations = []\n",
    "    for i in range(len(windows)):\n",
    "        corr = signal.correlate(windows_norm[i], stencil_norm, mode='same')\n",
    "        #conv = signal.convolve(windows_norm[i], stencil_norm, mode='same')\n",
    "        #rcor = np.abs(stats.pearsonr(windows_norm[i], stencil_long)[0])\n",
    "        #dist = spatial.distance.euclidean(windows_norm[i], stencil_long)\n",
    "        #kl = special.kl_div(windows_norm[i], stencil_long)\n",
    "        #dtw, path = fastdtw(windows_norm[i], stencil, dist=spatial.distance.euclidean)\n",
    "        #norm = np.linalg.norm(windows_norm[i] - stencil_long, 2)\n",
    "        correlations.append(corr)\n",
    "    correlations = np.array(correlations)\n",
    "\n",
    "    # calculate similarity pattern\n",
    "    similarity = np.zeros(dd.shape)\n",
    "    count = np.zeros(dd.shape)\n",
    "    for i in range(len(windows)):\n",
    "        start_idx = i*lag\n",
    "        similarity[start_idx:start_idx+window_size] += correlations[i]\n",
    "        count[start_idx:start_idx+window_size] += 1\n",
    "    similarity /= count\n",
    "    similarity /= similarity.max()\n",
    "    return similarity"
   ]
  },
  {
   "cell_type": "code",
   "execution_count": null,
   "metadata": {},
   "outputs": [],
   "source": [
    "start, end = 9400, 10000\n",
    "p1 = 9553\n",
    "window_size = 15\n",
    "\n",
    "ww = well1.loc[start:end]['HCGR']\n",
    "print('ww: {}'.format(ww.shape))\n",
    "gmin, gmax = 20, 120\n",
    "print('gmin: {}, gmax: {}'.format(gmin, gmax))\n",
    "\n",
    "stencil = ww.loc[p1:p1+window_size]\n",
    "stencil_norm = (stencil - stencil.min()) / (stencil.max() - stencil.min())\n",
    "print('stencil: {}'.format(stencil.shape))\n",
    "\n",
    "plt.figure(figsize=(25,2))\n",
    "plt.plot(ww.index, ww, c='g', label='GR')\n",
    "plt.plot(stencil.index, stencil, c='b', label='Stencil')\n",
    "plt.xlim(start, end)\n",
    "plt.ylim(gmin, gmax)\n",
    "plt.legend(loc='upper left')\n",
    "plt.grid(True, which='both')\n",
    "plt.tight_layout()\n",
    "plt.show()"
   ]
  },
  {
   "cell_type": "code",
   "execution_count": null,
   "metadata": {},
   "outputs": [],
   "source": [
    "window_sizes = np.linspace(11, 101, num=51, dtype=int).tolist()\n",
    "\n",
    "similarity = []\n",
    "for w in window_sizes:\n",
    "    sim = log_pattern(ww, stencil, window_size=w, lag=1)\n",
    "    similarity.append(sim)\n",
    "similarity = np.mean(similarity, axis=0)\n",
    "similarity_df = pd.DataFrame(similarity, index=ww.index)"
   ]
  },
  {
   "cell_type": "code",
   "execution_count": null,
   "metadata": {},
   "outputs": [],
   "source": [
    "threshold = 0.75\n",
    "similar_idx = np.argwhere(similarity >= threshold).flatten()\n",
    "\n",
    "fig, axs = plt.subplots(3, 1, figsize=(25,6), sharex=True, height_ratios=[1, 0.2, 0.2])\n",
    "ax1, ax2, ax3 = axs\n",
    "ax11, ax21 = ax1.twinx(), ax2.twinx()\n",
    "\n",
    "ax1.plot(ww.index, ww, c='g', lw=2)\n",
    "ax1.scatter(ww.index[similar_idx], ww.iloc[similar_idx], c='r', marker='o')\n",
    "ax1.plot(stencil.index, stencil, c='b')\n",
    "ax11.fill_between(ww.index, 0, ww, similarity>threshold, color='r', alpha=0.2)\n",
    "\n",
    "ax2.plot(ww.index, similarity, c='k')\n",
    "ax2.hlines(threshold, ww.index.min(), ww.index.max(), color='k', ls='--', alpha=0.4)\n",
    "ax21.fill_between(ww.index, 0, similarity, color='gray', alpha=0.4)\n",
    "\n",
    "ax3.imshow(similarity_df.T, vmin=0, vmax=1, aspect='auto', cmap='jet', \n",
    "           interpolation='bilinear', extent=[ww.index.min(),ww.index.max(),0,similarity_df.shape[1]])\n",
    "\n",
    "[a.grid(True, which='both') for a in [ax1,ax2]]\n",
    "[a.set(xlim=(ww.index.min(), ww.index.max()), ylim=((gmin,gmax),(gmin,gmax),(0,1),(0,1))[i]) for i,a in enumerate([ax1,ax11,ax2,ax21])]\n",
    "[a.set(ylabel=['GR [API]','Similarity','Similarity'][i]) for i,a in enumerate([ax1, ax2, ax3])]\n",
    "ax3.set(xlabel='Depth [ft]')\n",
    "\n",
    "plt.savefig('figures/log_pattern.png', dpi=600, bbox_inches='tight')\n",
    "plt.tight_layout()\n",
    "plt.show()"
   ]
  },
  {
   "cell_type": "markdown",
   "metadata": {},
   "source": [
    "***\n",
    "# END"
   ]
  }
 ],
 "metadata": {
  "kernelspec": {
   "display_name": "flow",
   "language": "python",
   "name": "python3"
  },
  "language_info": {
   "codemirror_mode": {
    "name": "ipython",
    "version": 3
   },
   "file_extension": ".py",
   "mimetype": "text/x-python",
   "name": "python",
   "nbconvert_exporter": "python",
   "pygments_lexer": "ipython3",
   "version": "3.9.21"
  }
 },
 "nbformat": 4,
 "nbformat_minor": 2
}
